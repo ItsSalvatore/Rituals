{
 "cells": [
  {
   "cell_type": "code",
   "execution_count": 17,
   "id": "9bd7c122",
   "metadata": {},
   "outputs": [],
   "source": [
    "import pandas as pd\n",
    "from sklearn.preprocessing import LabelEncoder\n",
    "from sklearn.tree import DecisionTreeClassifier"
   ]
  },
  {
   "cell_type": "code",
   "execution_count": 18,
   "id": "7a49ab61",
   "metadata": {},
   "outputs": [
    {
     "data": {
      "text/html": [
       "<div>\n",
       "<style scoped>\n",
       "    .dataframe tbody tr th:only-of-type {\n",
       "        vertical-align: middle;\n",
       "    }\n",
       "\n",
       "    .dataframe tbody tr th {\n",
       "        vertical-align: top;\n",
       "    }\n",
       "\n",
       "    .dataframe thead th {\n",
       "        text-align: right;\n",
       "    }\n",
       "</style>\n",
       "<table border=\"1\" class=\"dataframe\">\n",
       "  <thead>\n",
       "    <tr style=\"text-align: right;\">\n",
       "      <th></th>\n",
       "      <th>Product_id</th>\n",
       "      <th>Gender</th>\n",
       "      <th>Nuts</th>\n",
       "      <th>Ingredients</th>\n",
       "      <th>Price</th>\n",
       "      <th>Package Size</th>\n",
       "      <th>Refill?</th>\n",
       "      <th>In Stock?</th>\n",
       "    </tr>\n",
       "  </thead>\n",
       "  <tbody>\n",
       "    <tr>\n",
       "      <th>0</th>\n",
       "      <td>1</td>\n",
       "      <td>female</td>\n",
       "      <td>rose pepper, wood, himalaya</td>\n",
       "      <td>alcohol, water, citral</td>\n",
       "      <td>17.9</td>\n",
       "      <td>15</td>\n",
       "      <td>0</td>\n",
       "      <td>1</td>\n",
       "    </tr>\n",
       "    <tr>\n",
       "      <th>1</th>\n",
       "      <td>2</td>\n",
       "      <td>female</td>\n",
       "      <td>black berry, rose, vanille</td>\n",
       "      <td>alcohol, water, citral</td>\n",
       "      <td>49.9</td>\n",
       "      <td>50</td>\n",
       "      <td>1</td>\n",
       "      <td>0</td>\n",
       "    </tr>\n",
       "    <tr>\n",
       "      <th>2</th>\n",
       "      <td>3</td>\n",
       "      <td>male</td>\n",
       "      <td>arabic ambergis, white pepper</td>\n",
       "      <td>alcohol, water, citral</td>\n",
       "      <td>49.9</td>\n",
       "      <td>50</td>\n",
       "      <td>1</td>\n",
       "      <td>1</td>\n",
       "    </tr>\n",
       "    <tr>\n",
       "      <th>3</th>\n",
       "      <td>4</td>\n",
       "      <td>female</td>\n",
       "      <td>orchidee, rose, moschus</td>\n",
       "      <td>alcohol, water, citral</td>\n",
       "      <td>49.9</td>\n",
       "      <td>50</td>\n",
       "      <td>0</td>\n",
       "      <td>0</td>\n",
       "    </tr>\n",
       "  </tbody>\n",
       "</table>\n",
       "</div>"
      ],
      "text/plain": [
       "   Product_id  Gender                           Nuts             Ingredients  \\\n",
       "0           1  female    rose pepper, wood, himalaya  alcohol, water, citral   \n",
       "1           2  female     black berry, rose, vanille  alcohol, water, citral   \n",
       "2           3    male  arabic ambergis, white pepper  alcohol, water, citral   \n",
       "3           4  female        orchidee, rose, moschus  alcohol, water, citral   \n",
       "\n",
       "   Price  Package Size  Refill?  In Stock?  \n",
       "0   17.9            15        0          1  \n",
       "1   49.9            50        1          0  \n",
       "2   49.9            50        1          1  \n",
       "3   49.9            50        0          0  "
      ]
     },
     "execution_count": 18,
     "metadata": {},
     "output_type": "execute_result"
    }
   ],
   "source": [
    "df = pd.read_excel('DecisionTree_Python.xlsx')\n",
    "df.head()"
   ]
  },
  {
   "cell_type": "code",
   "execution_count": 21,
   "id": "7612ab8d",
   "metadata": {},
   "outputs": [
    {
     "data": {
      "text/plain": [
       "0    1\n",
       "1    2\n",
       "2    3\n",
       "3    4\n",
       "Name: Product_id, dtype: int64"
      ]
     },
     "execution_count": 21,
     "metadata": {},
     "output_type": "execute_result"
    }
   ],
   "source": [
    "target = df['Product_id']\n",
    "target"
   ]
  },
  {
   "cell_type": "code",
   "execution_count": 22,
   "id": "593e1b12",
   "metadata": {},
   "outputs": [
    {
     "data": {
      "text/html": [
       "<div>\n",
       "<style scoped>\n",
       "    .dataframe tbody tr th:only-of-type {\n",
       "        vertical-align: middle;\n",
       "    }\n",
       "\n",
       "    .dataframe tbody tr th {\n",
       "        vertical-align: top;\n",
       "    }\n",
       "\n",
       "    .dataframe thead th {\n",
       "        text-align: right;\n",
       "    }\n",
       "</style>\n",
       "<table border=\"1\" class=\"dataframe\">\n",
       "  <thead>\n",
       "    <tr style=\"text-align: right;\">\n",
       "      <th></th>\n",
       "      <th>Gender</th>\n",
       "      <th>Nuts</th>\n",
       "      <th>Ingredients</th>\n",
       "      <th>Price</th>\n",
       "      <th>Package Size</th>\n",
       "      <th>Refill?</th>\n",
       "      <th>In Stock?</th>\n",
       "    </tr>\n",
       "  </thead>\n",
       "  <tbody>\n",
       "    <tr>\n",
       "      <th>0</th>\n",
       "      <td>female</td>\n",
       "      <td>rose pepper, wood, himalaya</td>\n",
       "      <td>alcohol, water, citral</td>\n",
       "      <td>17.9</td>\n",
       "      <td>15</td>\n",
       "      <td>0</td>\n",
       "      <td>1</td>\n",
       "    </tr>\n",
       "    <tr>\n",
       "      <th>1</th>\n",
       "      <td>female</td>\n",
       "      <td>black berry, rose, vanille</td>\n",
       "      <td>alcohol, water, citral</td>\n",
       "      <td>49.9</td>\n",
       "      <td>50</td>\n",
       "      <td>1</td>\n",
       "      <td>0</td>\n",
       "    </tr>\n",
       "    <tr>\n",
       "      <th>2</th>\n",
       "      <td>male</td>\n",
       "      <td>arabic ambergis, white pepper</td>\n",
       "      <td>alcohol, water, citral</td>\n",
       "      <td>49.9</td>\n",
       "      <td>50</td>\n",
       "      <td>1</td>\n",
       "      <td>1</td>\n",
       "    </tr>\n",
       "    <tr>\n",
       "      <th>3</th>\n",
       "      <td>female</td>\n",
       "      <td>orchidee, rose, moschus</td>\n",
       "      <td>alcohol, water, citral</td>\n",
       "      <td>49.9</td>\n",
       "      <td>50</td>\n",
       "      <td>0</td>\n",
       "      <td>0</td>\n",
       "    </tr>\n",
       "  </tbody>\n",
       "</table>\n",
       "</div>"
      ],
      "text/plain": [
       "   Gender                           Nuts             Ingredients  Price  \\\n",
       "0  female    rose pepper, wood, himalaya  alcohol, water, citral   17.9   \n",
       "1  female     black berry, rose, vanille  alcohol, water, citral   49.9   \n",
       "2    male  arabic ambergis, white pepper  alcohol, water, citral   49.9   \n",
       "3  female        orchidee, rose, moschus  alcohol, water, citral   49.9   \n",
       "\n",
       "   Package Size  Refill?  In Stock?  \n",
       "0            15        0          1  \n",
       "1            50        1          0  \n",
       "2            50        1          1  \n",
       "3            50        0          0  "
      ]
     },
     "execution_count": 22,
     "metadata": {},
     "output_type": "execute_result"
    }
   ],
   "source": [
    "inputs = df.drop('Product_id', axis='columns')\n",
    "inputs"
   ]
  },
  {
   "cell_type": "code",
   "execution_count": 23,
   "id": "87301f04",
   "metadata": {},
   "outputs": [],
   "source": [
    "encoders = {}\n",
    "for column in inputs.columns:\n",
    "    encoders[column] = LabelEncoder()\n",
    "    inputs[f\"{column}_n\"] = encoders[column].fit_transform(inputs[column])"
   ]
  },
  {
   "cell_type": "code",
   "execution_count": 24,
   "id": "3c96a767",
   "metadata": {},
   "outputs": [
    {
     "data": {
      "text/html": [
       "<div>\n",
       "<style scoped>\n",
       "    .dataframe tbody tr th:only-of-type {\n",
       "        vertical-align: middle;\n",
       "    }\n",
       "\n",
       "    .dataframe tbody tr th {\n",
       "        vertical-align: top;\n",
       "    }\n",
       "\n",
       "    .dataframe thead th {\n",
       "        text-align: right;\n",
       "    }\n",
       "</style>\n",
       "<table border=\"1\" class=\"dataframe\">\n",
       "  <thead>\n",
       "    <tr style=\"text-align: right;\">\n",
       "      <th></th>\n",
       "      <th>Gender_n</th>\n",
       "      <th>Nuts_n</th>\n",
       "      <th>Ingredients_n</th>\n",
       "      <th>Price_n</th>\n",
       "      <th>Package Size_n</th>\n",
       "      <th>Refill?_n</th>\n",
       "      <th>In Stock?_n</th>\n",
       "    </tr>\n",
       "  </thead>\n",
       "  <tbody>\n",
       "    <tr>\n",
       "      <th>0</th>\n",
       "      <td>0</td>\n",
       "      <td>3</td>\n",
       "      <td>0</td>\n",
       "      <td>0</td>\n",
       "      <td>0</td>\n",
       "      <td>0</td>\n",
       "      <td>1</td>\n",
       "    </tr>\n",
       "    <tr>\n",
       "      <th>1</th>\n",
       "      <td>0</td>\n",
       "      <td>1</td>\n",
       "      <td>0</td>\n",
       "      <td>1</td>\n",
       "      <td>1</td>\n",
       "      <td>1</td>\n",
       "      <td>0</td>\n",
       "    </tr>\n",
       "    <tr>\n",
       "      <th>2</th>\n",
       "      <td>1</td>\n",
       "      <td>0</td>\n",
       "      <td>0</td>\n",
       "      <td>1</td>\n",
       "      <td>1</td>\n",
       "      <td>1</td>\n",
       "      <td>1</td>\n",
       "    </tr>\n",
       "    <tr>\n",
       "      <th>3</th>\n",
       "      <td>0</td>\n",
       "      <td>2</td>\n",
       "      <td>0</td>\n",
       "      <td>1</td>\n",
       "      <td>1</td>\n",
       "      <td>0</td>\n",
       "      <td>0</td>\n",
       "    </tr>\n",
       "  </tbody>\n",
       "</table>\n",
       "</div>"
      ],
      "text/plain": [
       "   Gender_n  Nuts_n  Ingredients_n  Price_n  Package Size_n  Refill?_n  \\\n",
       "0         0       3              0        0               0          0   \n",
       "1         0       1              0        1               1          1   \n",
       "2         1       0              0        1               1          1   \n",
       "3         0       2              0        1               1          0   \n",
       "\n",
       "   In Stock?_n  \n",
       "0            1  \n",
       "1            0  \n",
       "2            1  \n",
       "3            0  "
      ]
     },
     "execution_count": 24,
     "metadata": {},
     "output_type": "execute_result"
    }
   ],
   "source": [
    "inputs_n = inputs[[col for col in inputs.columns if col.endswith('_n')]]\n",
    "inputs_n"
   ]
  },
  {
   "cell_type": "code",
   "execution_count": 25,
   "id": "5a9f8e52",
   "metadata": {},
   "outputs": [
    {
     "data": {
      "text/html": [
       "<style>#sk-container-id-1 {color: black;}#sk-container-id-1 pre{padding: 0;}#sk-container-id-1 div.sk-toggleable {background-color: white;}#sk-container-id-1 label.sk-toggleable__label {cursor: pointer;display: block;width: 100%;margin-bottom: 0;padding: 0.3em;box-sizing: border-box;text-align: center;}#sk-container-id-1 label.sk-toggleable__label-arrow:before {content: \"▸\";float: left;margin-right: 0.25em;color: #696969;}#sk-container-id-1 label.sk-toggleable__label-arrow:hover:before {color: black;}#sk-container-id-1 div.sk-estimator:hover label.sk-toggleable__label-arrow:before {color: black;}#sk-container-id-1 div.sk-toggleable__content {max-height: 0;max-width: 0;overflow: hidden;text-align: left;background-color: #f0f8ff;}#sk-container-id-1 div.sk-toggleable__content pre {margin: 0.2em;color: black;border-radius: 0.25em;background-color: #f0f8ff;}#sk-container-id-1 input.sk-toggleable__control:checked~div.sk-toggleable__content {max-height: 200px;max-width: 100%;overflow: auto;}#sk-container-id-1 input.sk-toggleable__control:checked~label.sk-toggleable__label-arrow:before {content: \"▾\";}#sk-container-id-1 div.sk-estimator input.sk-toggleable__control:checked~label.sk-toggleable__label {background-color: #d4ebff;}#sk-container-id-1 div.sk-label input.sk-toggleable__control:checked~label.sk-toggleable__label {background-color: #d4ebff;}#sk-container-id-1 input.sk-hidden--visually {border: 0;clip: rect(1px 1px 1px 1px);clip: rect(1px, 1px, 1px, 1px);height: 1px;margin: -1px;overflow: hidden;padding: 0;position: absolute;width: 1px;}#sk-container-id-1 div.sk-estimator {font-family: monospace;background-color: #f0f8ff;border: 1px dotted black;border-radius: 0.25em;box-sizing: border-box;margin-bottom: 0.5em;}#sk-container-id-1 div.sk-estimator:hover {background-color: #d4ebff;}#sk-container-id-1 div.sk-parallel-item::after {content: \"\";width: 100%;border-bottom: 1px solid gray;flex-grow: 1;}#sk-container-id-1 div.sk-label:hover label.sk-toggleable__label {background-color: #d4ebff;}#sk-container-id-1 div.sk-serial::before {content: \"\";position: absolute;border-left: 1px solid gray;box-sizing: border-box;top: 0;bottom: 0;left: 50%;z-index: 0;}#sk-container-id-1 div.sk-serial {display: flex;flex-direction: column;align-items: center;background-color: white;padding-right: 0.2em;padding-left: 0.2em;position: relative;}#sk-container-id-1 div.sk-item {position: relative;z-index: 1;}#sk-container-id-1 div.sk-parallel {display: flex;align-items: stretch;justify-content: center;background-color: white;position: relative;}#sk-container-id-1 div.sk-item::before, #sk-container-id-1 div.sk-parallel-item::before {content: \"\";position: absolute;border-left: 1px solid gray;box-sizing: border-box;top: 0;bottom: 0;left: 50%;z-index: -1;}#sk-container-id-1 div.sk-parallel-item {display: flex;flex-direction: column;z-index: 1;position: relative;background-color: white;}#sk-container-id-1 div.sk-parallel-item:first-child::after {align-self: flex-end;width: 50%;}#sk-container-id-1 div.sk-parallel-item:last-child::after {align-self: flex-start;width: 50%;}#sk-container-id-1 div.sk-parallel-item:only-child::after {width: 0;}#sk-container-id-1 div.sk-dashed-wrapped {border: 1px dashed gray;margin: 0 0.4em 0.5em 0.4em;box-sizing: border-box;padding-bottom: 0.4em;background-color: white;}#sk-container-id-1 div.sk-label label {font-family: monospace;font-weight: bold;display: inline-block;line-height: 1.2em;}#sk-container-id-1 div.sk-label-container {text-align: center;}#sk-container-id-1 div.sk-container {/* jupyter's `normalize.less` sets `[hidden] { display: none; }` but bootstrap.min.css set `[hidden] { display: none !important; }` so we also need the `!important` here to be able to override the default hidden behavior on the sphinx rendered scikit-learn.org. See: https://github.com/scikit-learn/scikit-learn/issues/21755 */display: inline-block !important;position: relative;}#sk-container-id-1 div.sk-text-repr-fallback {display: none;}</style><div id=\"sk-container-id-1\" class=\"sk-top-container\"><div class=\"sk-text-repr-fallback\"><pre>DecisionTreeClassifier()</pre><b>In a Jupyter environment, please rerun this cell to show the HTML representation or trust the notebook. <br />On GitHub, the HTML representation is unable to render, please try loading this page with nbviewer.org.</b></div><div class=\"sk-container\" hidden><div class=\"sk-item\"><div class=\"sk-estimator sk-toggleable\"><input class=\"sk-toggleable__control sk-hidden--visually\" id=\"sk-estimator-id-1\" type=\"checkbox\" checked><label for=\"sk-estimator-id-1\" class=\"sk-toggleable__label sk-toggleable__label-arrow\">DecisionTreeClassifier</label><div class=\"sk-toggleable__content\"><pre>DecisionTreeClassifier()</pre></div></div></div></div></div>"
      ],
      "text/plain": [
       "DecisionTreeClassifier()"
      ]
     },
     "execution_count": 25,
     "metadata": {},
     "output_type": "execute_result"
    }
   ],
   "source": [
    "model = DecisionTreeClassifier()\n",
    "model.fit(inputs_n, target)\n"
   ]
  },
  {
   "cell_type": "code",
   "execution_count": 46,
   "id": "6b639ee7",
   "metadata": {},
   "outputs": [],
   "source": [
    "#Für die Prediction wird nach der Methode ein Dictionary benötigt -> Eingabe der User-> Ergebnis in Dictionary umwandeln -> In Decision Tree eingeben -> Produkt über ID in der DB abfragen\n",
    "\n",
    "def predict_product(input_data):\n",
    "   \n",
    "    input_df = pd.DataFrame([input_data])\n",
    "    \n",
    "    # Encodieren der Eingabedaten\n",
    "    encoded_input = pd.DataFrame()\n",
    "    for column, value in input_data.items():\n",
    "        if column in encoders:\n",
    "            encoded_value = encoders[column].transform([value])[0]\n",
    "            encoded_input[f\"{column}_n\"] = [encoded_value]\n",
    "    \n",
    "   \n",
    "    prediction = model.predict(encoded_input)[0]\n",
    "    \n",
    "    return prediction\n",
    "    \n"
   ]
  },
  {
   "cell_type": "code",
   "execution_count": null,
   "id": "732046c1",
   "metadata": {},
   "outputs": [],
   "source": []
  },
  {
   "cell_type": "code",
   "execution_count": 47,
   "id": "542e379e",
   "metadata": {},
   "outputs": [],
   "source": [
    "#Mano, I think here it needs to be connected to the FE to get the real input and not the sample input I used so far\n",
    "\n",
    "\n",
    "sample_input = {\n",
    "    'Gender': 'male',\n",
    "    'Nuts': 'arabic ambergis, white pepper',\n",
    "    'Ingredients': 'alcohol, water, citral',\n",
    "    'Price': 49.9,\n",
    "    'Package Size': 50,\n",
    "    'Refill?': 1,\n",
    "    'In Stock?': 1\n",
    "}"
   ]
  },
  {
   "cell_type": "code",
   "execution_count": 48,
   "id": "17eba749",
   "metadata": {},
   "outputs": [
    {
     "name": "stdout",
     "output_type": "stream",
     "text": [
      "Vorhergesagtes Produkt-ID: 3\n"
     ]
    }
   ],
   "source": [
    "predicted_product = predict_product(sample_input)\n",
    "print(f\"Vorhergesagtes Produkt-ID: {predicted_product}\")"
   ]
  },
  {
   "cell_type": "code",
   "execution_count": 43,
   "id": "354992ba",
   "metadata": {},
   "outputs": [],
   "source": [
    "#Ignore:\n",
    "#  Funktion zum Abrufen des Produktnamens basierend auf der Produkt-ID\n",
    "# name-Attribut muss entsprechend der Tabelle definert werden, hier bisher noch: 'Product_Name'\n",
    "\n",
    "# def get_product_name(product_id):\n",
    "#     # Filtern des DataFrames nach der vorhergesagten Produkt-ID\n",
    "    #Hier muss noch neuer Dataframe eingelesen werden, denn Name des Produktes steht nicht in der selben Tabelle wie die anderen Attribute des Dataframe df\n",
    "#     product_info = df[df['Product_id'] == product_id]\n",
    "    \n",
    "#     if not product_info.empty:\n",
    "#         # Annahme: Die Spalte mit dem Produktnamen heißt 'Product_Name'\n",
    "#         # Passen Sie dies an den tatsächlichen Namen der Spalte in Ihrer Excel-Datei an\n",
    "#         return product_info['Product_Name'].values[0]\n",
    "#     else:\n",
    "#         return \"Produkt nicht gefunden\""
   ]
  },
  {
   "cell_type": "code",
   "execution_count": 50,
   "id": "aea87f7e",
   "metadata": {
    "scrolled": false
   },
   "outputs": [],
   "source": [
    "#Ignore:\n",
    "# product_name = get_product_name(predicted_product)\n",
    "# print(f\"Produktname: {product_name}\")"
   ]
  }
 ],
 "metadata": {
  "kernelspec": {
   "display_name": "Python 3 (ipykernel)",
   "language": "python",
   "name": "python3"
  },
  "language_info": {
   "codemirror_mode": {
    "name": "ipython",
    "version": 3
   },
   "file_extension": ".py",
   "mimetype": "text/x-python",
   "name": "python",
   "nbconvert_exporter": "python",
   "pygments_lexer": "ipython3",
   "version": "3.11.5"
  }
 },
 "nbformat": 4,
 "nbformat_minor": 5
}
