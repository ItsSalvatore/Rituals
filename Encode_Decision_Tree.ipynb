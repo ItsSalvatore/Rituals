{
 "cells": [
  {
   "cell_type": "code",
   "execution_count": null,
   "id": "9bd7c122",
   "metadata": {},
   "outputs": [],
   "source": [
    "import pandas as pd\n",
    "from sklearn.preprocessing import LabelEncoder\n",
    "from sklearn.tree import DecisionTreeClassifier"
   ]
  },
  {
   "cell_type": "code",
   "execution_count": null,
   "id": "b186fba7",
   "metadata": {},
   "outputs": [],
   "source": []
  },
  {
   "cell_type": "code",
   "execution_count": null,
   "id": "7a49ab61",
   "metadata": {},
   "outputs": [],
   "source": [
    "df = pd.read_excel('DecisionTree_Python.xlsx')\n",
    "df.head()"
   ]
  },
  {
   "cell_type": "code",
   "execution_count": null,
   "id": "7612ab8d",
   "metadata": {},
   "outputs": [],
   "source": [
    "target = df['Product_id']\n",
    "target"
   ]
  },
  {
   "cell_type": "code",
   "execution_count": null,
   "id": "593e1b12",
   "metadata": {},
   "outputs": [],
   "source": [
    "inputs = df.drop('Product_id', axis='columns')\n",
    "inputs"
   ]
  },
  {
   "cell_type": "code",
   "execution_count": 23,
   "id": "87301f04",
   "metadata": {},
   "outputs": [],
   "source": [
    "encoders = {}\n",
    "for column in inputs.columns:\n",
    "    encoders[column] = LabelEncoder()\n",
    "    inputs[f\"{column}_n\"] = encoders[column].fit_transform(inputs[column])"
   ]
  },
  {
   "cell_type": "code",
   "execution_count": null,
   "id": "3c96a767",
   "metadata": {},
   "outputs": [],
   "source": [
    "inputs_n = inputs[[col for col in inputs.columns if col.endswith('_n')]]\n",
    "inputs_n"
   ]
  },
  {
   "cell_type": "code",
   "execution_count": null,
   "id": "5a9f8e52",
   "metadata": {},
   "outputs": [],
   "source": [
    "model = DecisionTreeClassifier()\n",
    "model.fit(inputs_n, target)\n"
   ]
  },
  {
   "cell_type": "code",
   "execution_count": 46,
   "id": "6b639ee7",
   "metadata": {},
   "outputs": [],
   "source": [
    "#Für die Prediction wird nach der Methode ein Dictionary benötigt -> Eingabe der User-> Ergebnis in Dictionary umwandeln -> In Decision Tree eingeben -> Produkt über ID in der DB abfragen\n",
    "\n",
    "def predict_product(input_data):\n",
    "   \n",
    "    input_df = pd.DataFrame([input_data])\n",
    "    \n",
    "    # Encodieren der Eingabedaten\n",
    "    encoded_input = pd.DataFrame()\n",
    "    for column, value in input_data.items():\n",
    "        if column in encoders:\n",
    "            encoded_value = encoders[column].transform([value])[0]\n",
    "            encoded_input[f\"{column}_n\"] = [encoded_value]\n",
    "    \n",
    "   \n",
    "    prediction = model.predict(encoded_input)[0]\n",
    "    \n",
    "    return prediction\n",
    "    \n"
   ]
  },
  {
   "cell_type": "code",
   "execution_count": null,
   "id": "732046c1",
   "metadata": {},
   "outputs": [],
   "source": []
  },
  {
   "cell_type": "code",
   "execution_count": 47,
   "id": "542e379e",
   "metadata": {},
   "outputs": [],
   "source": [
    "#Mano, I think here it needs to be connected to the FE to get the real input and not the sample input I used so far\n",
    "\n",
    "\n",
    "sample_input = {\n",
    "    'Gender': 'male',\n",
    "    'Nuts': 'arabic ambergis, white pepper',\n",
    "    'Ingredients': 'alcohol, water, citral',\n",
    "    'Price': 49.9,\n",
    "    'Package Size': 50,\n",
    "    'Refill?': 1,\n",
    "    'In Stock?': 1\n",
    "}"
   ]
  },
  {
   "cell_type": "code",
   "execution_count": null,
   "id": "17eba749",
   "metadata": {},
   "outputs": [],
   "source": [
    "predicted_product = predict_product(sample_input)\n",
    "print(f\"Vorhergesagtes Produkt-ID: {predicted_product}\")"
   ]
  },
  {
   "cell_type": "code",
   "execution_count": 43,
   "id": "354992ba",
   "metadata": {},
   "outputs": [],
   "source": [
    "#Ignore:\n",
    "#  Funktion zum Abrufen des Produktnamens basierend auf der Produkt-ID\n",
    "# name-Attribut muss entsprechend der Tabelle definert werden, hier bisher noch: 'Product_Name'\n",
    "\n",
    "# def get_product_name(product_id):\n",
    "#     # Filtern des DataFrames nach der vorhergesagten Produkt-ID\n",
    "    #Hier muss noch neuer Dataframe eingelesen werden, denn Name des Produktes steht nicht in der selben Tabelle wie die anderen Attribute des Dataframe df\n",
    "#     product_info = df[df['Product_id'] == product_id]\n",
    "    \n",
    "#     if not product_info.empty:\n",
    "#         # Annahme: Die Spalte mit dem Produktnamen heißt 'Product_Name'\n",
    "#         # Passen Sie dies an den tatsächlichen Namen der Spalte in Ihrer Excel-Datei an\n",
    "#         return product_info['Product_Name'].values[0]\n",
    "#     else:\n",
    "#         return \"Produkt nicht gefunden\""
   ]
  },
  {
   "cell_type": "code",
   "execution_count": 50,
   "id": "aea87f7e",
   "metadata": {
    "scrolled": false
   },
   "outputs": [],
   "source": [
    "#Ignore:\n",
    "# product_name = get_product_name(predicted_product)\n",
    "# print(f\"Produktname: {product_name}\")"
   ]
  }
 ],
 "metadata": {
  "kernelspec": {
   "display_name": "Python 3",
   "language": "python",
   "name": "python3"
  },
  "language_info": {
   "codemirror_mode": {
    "name": "ipython",
    "version": 3
   },
   "file_extension": ".py",
   "mimetype": "text/x-python",
   "name": "python",
   "nbconvert_exporter": "python",
   "pygments_lexer": "ipython3",
   "version": "3.12.3"
  }
 },
 "nbformat": 4,
 "nbformat_minor": 5
}
